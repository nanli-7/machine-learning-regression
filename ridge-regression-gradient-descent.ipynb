{
 "cells": [
  {
   "cell_type": "markdown",
   "metadata": {},
   "source": [
    "# Ridge Regression (gradient descent)"
   ]
  },
  {
   "cell_type": "markdown",
   "metadata": {},
   "source": [
    "# Fire up graphlab create"
   ]
  },
  {
   "cell_type": "code",
   "execution_count": 1,
   "metadata": {
    "collapsed": false
   },
   "outputs": [],
   "source": [
    "import graphlab"
   ]
  },
  {
   "cell_type": "markdown",
   "metadata": {},
   "source": [
    "# Load in house sales data\n",
    "\n",
    "Dataset is from house sales in King County, the region where the city of Seattle, WA is located."
   ]
  },
  {
   "cell_type": "code",
   "execution_count": 2,
   "metadata": {
    "collapsed": false
   },
   "outputs": [
    {
     "name": "stdout",
     "output_type": "stream",
     "text": [
      "This non-commercial license of GraphLab Create for academic use is assigned to nanlee_89@yahoo.com and will expire on December 07, 2018.\n"
     ]
    },
    {
     "name": "stderr",
     "output_type": "stream",
     "text": [
      "[INFO] graphlab.cython.cy_server: GraphLab Create v2.1 started. Logging: /tmp/graphlab_server_1526847953.log\n"
     ]
    }
   ],
   "source": [
    "sales = graphlab.SFrame('kc_house_data.gl/')"
   ]
  },
  {
   "cell_type": "markdown",
   "metadata": {},
   "source": [
    "# Function to convert SFrame to Numpy data"
   ]
  },
  {
   "cell_type": "code",
   "execution_count": 3,
   "metadata": {
    "collapsed": true
   },
   "outputs": [],
   "source": [
    "import numpy as np # note this allows us to refer to numpy as np instead "
   ]
  },
  {
   "cell_type": "code",
   "execution_count": 6,
   "metadata": {
    "collapsed": true
   },
   "outputs": [],
   "source": [
    "def get_numpy_data(data_sframe, features, output):\n",
    "    data_sframe['constant'] = 1 # add a constant column to an SFrame\n",
    "    \n",
    "    # add the column 'constant' to the front of the features list in order to extract it along with the others:\n",
    "    features = ['constant'] + features # combine two lists\n",
    "    \n",
    "    # select the columns of data_SFrame given by the features list into the SFrame features_sframe (now including constant):\n",
    "    features_sframe = data_sframe[features]\n",
    "    \n",
    "    # convert the features_SFrame into a numpy matrix:\n",
    "    feature_matrix = features_sframe.to_numpy()\n",
    "    \n",
    "    # assign the column of data_sframe associated with the output to the SArray output_sarray\n",
    "    output_sarray = data_sframe[output]\n",
    "    \n",
    "    # convert the SArray into a numpy array by first converting it to a list\n",
    "    output_array = output_sarray.to_numpy()\n",
    "    \n",
    "    return(feature_matrix, output_array)"
   ]
  },
  {
   "cell_type": "markdown",
   "metadata": {},
   "source": [
    "### Function to predict output given feature matrix and weight vector"
   ]
  },
  {
   "cell_type": "code",
   "execution_count": 7,
   "metadata": {
    "collapsed": true
   },
   "outputs": [],
   "source": [
    "def predict_output(feature_matrix, weights):\n",
    "    # assume feature_matrix is a numpy matrix containing the features as columns and weights is a corresponding numpy array\n",
    "    # create the predictions vector by using np.dot()\n",
    "    predictions =  np.dot(feature_matrix, weights)\n",
    "    return(predictions)"
   ]
  },
  {
   "cell_type": "markdown",
   "metadata": {},
   "source": [
    "# Computing the Derivative"
   ]
  },
  {
   "cell_type": "markdown",
   "metadata": {},
   "source": [
    "We are now going to move to computing the derivative of the regression cost function. The cost function is the sum over the data points of the squared difference between an observed output and a predicted output, plus the L2 penalty term.\n",
    "```\n",
    "Cost(w)\n",
    "= SUM[ (prediction - output)^2 ]\n",
    "+ l2_penalty*(w[0]^2 + w[1]^2 + ... + w[k]^2).\n",
    "```\n",
    "\n",
    "Since the derivative of a sum is the sum of the derivatives, we can take the derivative of the first part (the RSS) and add the derivative of the regularization part.  The derivative of the RSS with respect to `w[i]` can be written as: \n",
    "```\n",
    "2*SUM[ error*[feature_i] ].\n",
    "```\n",
    "The derivative of the regularization term with respect to `w[i]` is:\n",
    "```\n",
    "2*l2_penalty*w[i].\n",
    "```\n",
    "Summing both, we get\n",
    "```\n",
    "2*SUM[ error*[feature_i] ] + 2*l2_penalty*w[i].\n",
    "```\n",
    "That is, the derivative for the weight for feature i is the sum (over data points) of 2 times the product of the error and the feature itself, plus `2*l2_penalty*w[i]`. \n",
    "\n",
    "**We will not regularize the constant.**  Thus, in the case of the constant, the derivative is just twice the sum of the errors (without the `2*l2_penalty*w[0]` term).\n",
    "\n",
    "Twice the sum of the product of two vectors is just twice the dot product of the two vectors. Therefore the derivative for the weight for feature_i is just two times the dot product between the values of feature_i and the current errors, plus `2*l2_penalty*w[i]`.\n",
    "\n",
    "The following derivative function which computes the derivative of the weight given the value of the feature (over all data points) and the errors (over all data points).  To decide when to we are dealing with the constant (so we don't regularize it) we added the extra parameter to the call `feature_is_constant` which you should set to `True` when computing the derivative of the constant and `False` otherwise."
   ]
  },
  {
   "cell_type": "markdown",
   "metadata": {},
   "source": [
    "### Function to compute derivative of weight¶\n"
   ]
  },
  {
   "cell_type": "code",
   "execution_count": 1,
   "metadata": {
    "collapsed": true
   },
   "outputs": [],
   "source": [
    "def feature_derivative_ridge(errors, feature, weight, l2_penalty, feature_is_constant):\n",
    "    # If feature_is_constant is True, derivative is twice the dot product of errors and feature\n",
    "    if feature_is_constant:\n",
    "        derivative = 2 * np.dot(errors, feature)\n",
    "    # Otherwise, derivative is twice the dot product plus 2*l2_penalty*weight\n",
    "    else:\n",
    "        derivative = 2 * np.dot(errors, feature) + 2*l2_penalty*weight\n",
    "    return derivative"
   ]
  },
  {
   "cell_type": "markdown",
   "metadata": {},
   "source": [
    "# Gradient Descent"
   ]
  },
  {
   "cell_type": "markdown",
   "metadata": {},
   "source": [
    "Now we will write a function that performs a gradient descent. The basic premise is simple. Given a starting point we update the current weights by moving in the negative gradient direction. The gradient is the direction of *increase* and therefore the negative gradient is the direction of *decrease* and we're trying to *minimize* a cost function. \n",
    "\n",
    "We will set a **maximum number of iterations** and take gradient steps until we reach this maximum number. If no maximum number is supplied, the maximum should be set 100 by default. For each step in the gradient descent, we update the weight for each feature before computing our stopping criteria."
   ]
  },
  {
   "cell_type": "code",
   "execution_count": 22,
   "metadata": {
    "collapsed": false
   },
   "outputs": [],
   "source": [
    "def ridge_regression_gradient_descent(feature_matrix, output, initial_weights, step_size, l2_penalty, max_iterations=100):\n",
    "    print 'Starting gradient descent with l2_penalty = ' + str(l2_penalty)\n",
    "    \n",
    "    weights = np.array(initial_weights) # make sure it's a numpy array\n",
    "    iteration = 0 # iteration counter\n",
    "    print_frequency = 1  # for adjusting frequency of debugging output\n",
    "    \n",
    "    #while not reached maximum number of iterations:\n",
    "    while iteration < max_iterations:\n",
    "        iteration += 1  # increment iteration counter\n",
    "        ### === code section for adjusting frequency of debugging output. ===\n",
    "        if iteration == 10:\n",
    "            print_frequency = 10\n",
    "        if iteration == 100:\n",
    "            print_frequency = 100\n",
    "        if iteration%print_frequency==0:\n",
    "            print('Iteration = ' + str(iteration))\n",
    "        ### === end code section ===\n",
    "        \n",
    "        # compute the predictions based on feature_matrix and weights using your predict_output() function\n",
    "        predictions = predict_output(feature_matrix, weights)\n",
    "        # compute the errors as predictions - output\n",
    "        errors = predictions - output\n",
    "        # from time to time, print the value of the cost function\n",
    "        if iteration%print_frequency==0:\n",
    "            print 'Cost function = ', str(np.dot(errors,errors) + l2_penalty*(np.dot(weights,weights) - weights[0]**2))\n",
    "        \n",
    "        for i in xrange(len(weights)): # loop over each weight\n",
    "            # Recall that feature_matrix[:,i] is the feature column associated with weights[i]\n",
    "            # compute the derivative for weight[i].\n",
    "            #(Remember: when i=0, you are computing the derivative of the constant!)\n",
    "            # parameters: errors, feature, weight, l2_penalty, feature_is_constant\n",
    "            derivative = feature_derivative_ridge(errors, feature_matrix[:, i],\n",
    "                                                  weights[i], l2_penalty, False)\n",
    "            # subtract the step size times the derivative from the current weight\n",
    "            weights[i] = weights[i] - step_size * derivative\n",
    "            \n",
    "    print 'Done with gradient descent at iteration ', iteration\n",
    "    print 'Learned weights = ', str(weights)\n",
    "    return weights"
   ]
  },
  {
   "cell_type": "markdown",
   "metadata": {},
   "source": [
    "# Visualizing effect of L2 penalty"
   ]
  },
  {
   "cell_type": "markdown",
   "metadata": {},
   "source": [
    "The L2 penalty gets its name because it causes weights to have small L2 norms than otherwise. Let's see how large weights get penalized. Let us consider a simple model with 1 feature:"
   ]
  },
  {
   "cell_type": "code",
   "execution_count": 18,
   "metadata": {
    "collapsed": true
   },
   "outputs": [],
   "source": [
    "simple_features = ['sqft_living']\n",
    "my_output = 'price'"
   ]
  },
  {
   "cell_type": "markdown",
   "metadata": {},
   "source": [
    "Let us split the dataset into training set and test set. Make sure to use `seed=0`:"
   ]
  },
  {
   "cell_type": "code",
   "execution_count": 12,
   "metadata": {
    "collapsed": true
   },
   "outputs": [],
   "source": [
    "train_data,test_data = sales.random_split(.8,seed=0)"
   ]
  },
  {
   "cell_type": "markdown",
   "metadata": {},
   "source": [
    "In this part, we will only use `'sqft_living'` to predict `'price'`. Use the `get_numpy_data` function to get a Numpy versions of your data with only this feature, for both the `train_data` and the `test_data`. "
   ]
  },
  {
   "cell_type": "code",
   "execution_count": 40,
   "metadata": {
    "collapsed": true
   },
   "outputs": [],
   "source": [
    "(simple_feature_matrix, output) = get_numpy_data(train_data, simple_features, my_output)\n",
    "(simple_test_feature_matrix, test_output) = get_numpy_data(test_data, simple_features, my_output)"
   ]
  },
  {
   "cell_type": "markdown",
   "metadata": {},
   "source": [
    "Let's set the parameters for our optimization:"
   ]
  },
  {
   "cell_type": "code",
   "execution_count": 34,
   "metadata": {
    "collapsed": true
   },
   "outputs": [],
   "source": [
    "initial_weights = np.array([0., 0.])\n",
    "step_size = 1e-12\n",
    "max_iterations=1000"
   ]
  },
  {
   "cell_type": "markdown",
   "metadata": {},
   "source": [
    "First, let's consider no regularization.  Set the `l2_penalty` to `0.0` and run your ridge regression algorithm to learn the weights of your model.  Call your weights:\n",
    "\n",
    "`simple_weights_0_penalty`\n",
    "\n",
    "we'll use them later."
   ]
  },
  {
   "cell_type": "code",
   "execution_count": 23,
   "metadata": {
    "collapsed": false
   },
   "outputs": [
    {
     "name": "stdout",
     "output_type": "stream",
     "text": [
      "Starting gradient descent with l2_penalty = 0.0\n",
      "Iteration = 1\n",
      "Cost function =  7433051851026171.0\n",
      "Iteration = 2\n",
      "Cost function =  5394267213135522.0\n",
      "Iteration = 3\n",
      "Cost function =  4023237736501159.5\n",
      "Iteration = 4\n",
      "Cost function =  3101256183922411.0\n",
      "Iteration = 5\n",
      "Cost function =  2481247644505111.5\n",
      "Iteration = 6\n",
      "Cost function =  2064308077891940.5\n",
      "Iteration = 7\n",
      "Cost function =  1783927097372279.0\n",
      "Iteration = 8\n",
      "Cost function =  1595378203154871.2\n",
      "Iteration = 9\n",
      "Cost function =  1468583991054997.0\n",
      "Iteration = 10\n",
      "Cost function =  1383318191484981.8\n",
      "Iteration = 20\n",
      "Cost function =  1211562140496238.8\n",
      "Iteration = 30\n",
      "Cost function =  1208313762678823.2\n",
      "Iteration = 40\n",
      "Cost function =  1208252326252870.0\n",
      "Iteration = 50\n",
      "Cost function =  1208251163612918.5\n",
      "Iteration = 60\n",
      "Cost function =  1208251140915262.5\n",
      "Iteration = 70\n",
      "Cost function =  1208251139777035.5\n",
      "Iteration = 80\n",
      "Cost function =  1208251139046556.2\n",
      "Iteration = 90\n",
      "Cost function =  1208251138323789.0\n",
      "Iteration = 100\n",
      "Cost function =  1208251137601168.0\n",
      "Iteration = 200\n",
      "Cost function =  1208251130374984.0\n",
      "Iteration = 300\n",
      "Cost function =  1208251123148810.2\n",
      "Iteration = 400\n",
      "Cost function =  1208251115922644.0\n",
      "Iteration = 500\n",
      "Cost function =  1208251108696485.0\n",
      "Iteration = 600\n",
      "Cost function =  1208251101470335.5\n",
      "Iteration = 700\n",
      "Cost function =  1208251094244194.2\n",
      "Iteration = 800\n",
      "Cost function =  1208251087018060.2\n",
      "Iteration = 900\n",
      "Cost function =  1208251079791934.8\n",
      "Iteration = 1000\n",
      "Cost function =  1208251072565817.2\n",
      "Done with gradient descent at iteration  1000\n",
      "Learned weights =  [-1.63113501e-01  2.63024369e+02]\n"
     ]
    }
   ],
   "source": [
    "simple_weights_0_penalty = ridge_regression_gradient_descent(simple_feature_matrix, output, \n",
    "                                                             initial_weights, step_size, \n",
    "                                                             0.0, max_iterations)"
   ]
  },
  {
   "cell_type": "markdown",
   "metadata": {},
   "source": [
    "Next, let's consider high regularization.  Set the `l2_penalty` to `1e11` and run your ridge regression algorithm to learn the weights of your model.  Call your weights:\n",
    "\n",
    "`simple_weights_high_penalty`\n",
    "\n",
    "we'll use them later."
   ]
  },
  {
   "cell_type": "code",
   "execution_count": 24,
   "metadata": {
    "collapsed": false
   },
   "outputs": [
    {
     "name": "stdout",
     "output_type": "stream",
     "text": [
      "Starting gradient descent with l2_penalty = 1e+11\n",
      "Iteration = 1\n",
      "Cost function =  7433051851026171.0\n",
      "Iteration = 2\n",
      "Cost function =  5618303898412627.0\n",
      "Iteration = 3\n",
      "Cost function =  4920613327649734.0\n",
      "Iteration = 4\n",
      "Cost function =  4652382056287354.0\n",
      "Iteration = 5\n",
      "Cost function =  4549258949600038.0\n",
      "Iteration = 6\n",
      "Cost function =  4509612654566786.0\n",
      "Iteration = 7\n",
      "Cost function =  4494370397128918.0\n",
      "Iteration = 8\n",
      "Cost function =  4488510417911552.0\n",
      "Iteration = 9\n",
      "Cost function =  4486257512217157.0\n",
      "Iteration = 10\n",
      "Cost function =  4485391368052203.0\n",
      "Iteration = 20\n",
      "Cost function =  4484850428084799.0\n",
      "Iteration = 30\n",
      "Cost function =  4484850390038058.0\n",
      "Iteration = 40\n",
      "Cost function =  4484850390052995.0\n",
      "Iteration = 50\n",
      "Cost function =  4484850390054930.0\n",
      "Iteration = 60\n",
      "Cost function =  4484850390055138.0\n",
      "Iteration = 70\n",
      "Cost function =  4484850390055162.5\n",
      "Iteration = 80\n",
      "Cost function =  4484850390055164.0\n",
      "Iteration = 90\n",
      "Cost function =  4484850390055164.5\n",
      "Iteration = 100\n",
      "Cost function =  4484850390055164.5\n",
      "Iteration = 200\n",
      "Cost function =  4484850390055164.5\n",
      "Iteration = 300\n",
      "Cost function =  4484850390055164.5\n",
      "Iteration = 400\n",
      "Cost function =  4484850390055164.5\n",
      "Iteration = 500\n",
      "Cost function =  4484850390055164.5\n",
      "Iteration = 600\n",
      "Cost function =  4484850390055164.5\n",
      "Iteration = 700\n",
      "Cost function =  4484850390055164.5\n",
      "Iteration = 800\n",
      "Cost function =  4484850390055164.5\n",
      "Iteration = 900\n",
      "Cost function =  4484850390055164.5\n",
      "Iteration = 1000\n",
      "Cost function =  4484850390055164.5\n",
      "Done with gradient descent at iteration  1000\n",
      "Learned weights =  [4.87184758e-02 1.24574021e+02]\n"
     ]
    }
   ],
   "source": [
    "simple_weights_high_penalty = ridge_regression_gradient_descent(simple_feature_matrix, output, \n",
    "                                                                initial_weights, step_size, \n",
    "                                                                1e11, max_iterations)"
   ]
  },
  {
   "cell_type": "markdown",
   "metadata": {},
   "source": [
    "This code will plot the two learned models.  (The blue line is for the model with no regularization and the red line is for the one with high regularization.)"
   ]
  },
  {
   "cell_type": "code",
   "execution_count": 25,
   "metadata": {
    "collapsed": false
   },
   "outputs": [
    {
     "data": {
      "text/plain": [
       "[<matplotlib.lines.Line2D at 0x11ff06410>,\n",
       " <matplotlib.lines.Line2D at 0x11ff06510>,\n",
       " <matplotlib.lines.Line2D at 0x11ff06710>,\n",
       " <matplotlib.lines.Line2D at 0x11ff18310>,\n",
       " <matplotlib.lines.Line2D at 0x11ff18450>,\n",
       " <matplotlib.lines.Line2D at 0x11ff18f90>]"
      ]
     },
     "execution_count": 25,
     "metadata": {},
     "output_type": "execute_result"
    },
    {
     "data": {
      "image/png": "[encoded data removed]",
      "text/plain": [
       "<matplotlib.figure.Figure at 0x116226050>"
      ]
     },
     "metadata": {},
     "output_type": "display_data"
    }
   ],
   "source": [
    "import matplotlib.pyplot as plt\n",
    "%matplotlib inline\n",
    "plt.plot(simple_feature_matrix,output,'k.',\n",
    "         simple_feature_matrix,predict_output(simple_feature_matrix, simple_weights_0_penalty),'b-',\n",
    "        simple_feature_matrix,predict_output(simple_feature_matrix, simple_weights_high_penalty),'r-')"
   ]
  },
  {
   "cell_type": "markdown",
   "metadata": {},
   "source": [
    "Compute the RSS on the TEST data for the following three sets of weights:\n",
    "1. The initial weights (all zeros)\n",
    "2. The weights learned with no regularization\n",
    "3. The weights learned with high regularization\n",
    "\n",
    "Which weights perform best?"
   ]
  },
  {
   "cell_type": "markdown",
   "metadata": {
    "collapsed": true
   },
   "source": [
    "### RSS on the TEST data - The initial weights (all zeros)"
   ]
  },
  {
   "cell_type": "code",
   "execution_count": 45,
   "metadata": {
    "collapsed": false
   },
   "outputs": [
    {
     "name": "stdout",
     "output_type": "stream",
     "text": [
      "[-4.59315109e+09 -1.14563014e+13]\n"
     ]
    }
   ],
   "source": [
    "initial_weights = np.array([0.0,0.0])\n",
    "test_predictions_initial_weights = predict_output(simple_test_feature_matrix, initial_weights) \n",
    "errors = test_predictions_initial_weights - test_output # prediction errors\n",
    "\n",
    "# next two lines should print the same values\n",
    "print feature_derivative_ridge(errors, simple_test_feature_matrix, initial_weights, 1, False)"
   ]
  },
  {
   "cell_type": "markdown",
   "metadata": {},
   "source": [
    "### RSS on the TEST data - The weights learned with no regularization"
   ]
  },
  {
   "cell_type": "code",
   "execution_count": 64,
   "metadata": {
    "collapsed": false
   },
   "outputs": [
    {
     "name": "stdout",
     "output_type": "stream",
     "text": [
      "RSS: 275723634597546.75\n",
      "[ 3.27307512e+07 -1.44990493e+10]\n"
     ]
    }
   ],
   "source": [
    "test_predictions_0_penalty = predict_output(simple_test_feature_matrix, simple_weights_0_penalty) \n",
    "errors = test_predictions_0_penalty - test_output # prediction errors\n",
    "\n",
    "print 'RSS:', (errors**2).sum()\n",
    "print feature_derivative_ridge(errors, simple_test_feature_matrix, simple_weights_0_penalty, 0.0, False)"
   ]
  },
  {
   "cell_type": "markdown",
   "metadata": {},
   "source": [
    "### RSS on the TEST data - The weights learned with high regularization"
   ]
  },
  {
   "cell_type": "code",
   "execution_count": 65,
   "metadata": {
    "collapsed": false
   },
   "outputs": [
    {
     "name": "stdout",
     "output_type": "stream",
     "text": [
      "RSS: 694654309002607.8\n",
      "[7.34146267e+09 1.88775896e+13]\n"
     ]
    }
   ],
   "source": [
    "test_predictions_high_penalty = predict_output(simple_test_feature_matrix, simple_weights_high_penalty) \n",
    "errors = test_predictions_high_penalty - test_output # prediction errors\n",
    "\n",
    "print 'RSS:', (errors**2).sum()\n",
    "print feature_derivative_ridge(errors, simple_test_feature_matrix, simple_weights_high_penalty, 1e11, False)"
   ]
  },
  {
   "cell_type": "code",
   "execution_count": null,
   "metadata": {
    "collapsed": true
   },
   "outputs": [],
   "source": []
  },
  {
   "cell_type": "markdown",
   "metadata": {
    "collapsed": false
   },
   "source": [
    "***QUIZ QUESTIONS***\n",
    "1. What is the value of the coefficient for `sqft_living` that you learned with no regularization, rounded to 1 decimal place?  What about the one with high regularization?\n",
    "2. Comparing the lines you fit with the with no regularization versus high regularization, which one is steeper?\n",
    "3. What are the RSS on the test data for each of the set of weights above (initial, no regularization, high regularization)? \n"
   ]
  },
  {
   "cell_type": "markdown",
   "metadata": {},
   "source": [
    "# Running a multiple regression with L2 penalty"
   ]
  },
  {
   "cell_type": "markdown",
   "metadata": {},
   "source": [
    "Let us now consider a model with 2 features: `['sqft_living', 'sqft_living15']`."
   ]
  },
  {
   "cell_type": "markdown",
   "metadata": {},
   "source": [
    "First, create Numpy versions of your training and test data with these two features. "
   ]
  },
  {
   "cell_type": "code",
   "execution_count": 50,
   "metadata": {
    "collapsed": true
   },
   "outputs": [],
   "source": [
    "model_features = ['sqft_living', 'sqft_living15'] # sqft_living15 is the average squarefeet for the nearest 15 neighbors. \n",
    "my_output = 'price'\n",
    "(feature_matrix, output) = get_numpy_data(train_data, model_features, my_output)\n",
    "(test_feature_matrix, test_output) = get_numpy_data(test_data, model_features, my_output)"
   ]
  },
  {
   "cell_type": "markdown",
   "metadata": {},
   "source": [
    "We need to re-inialize the weights, since we have one extra parameter. Let us also set the step size and maximum number of iterations."
   ]
  },
  {
   "cell_type": "code",
   "execution_count": 51,
   "metadata": {
    "collapsed": true
   },
   "outputs": [],
   "source": [
    "initial_weights = np.array([0.0,0.0,0.0])\n",
    "step_size = 1e-12\n",
    "max_iterations = 1000"
   ]
  },
  {
   "cell_type": "markdown",
   "metadata": {},
   "source": [
    "First, let's consider no regularization.  Set the `l2_penalty` to `0.0` and run your ridge regression algorithm to learn the weights of your model.  Call your weights:\n",
    "\n",
    "`multiple_weights_0_penalty`"
   ]
  },
  {
   "cell_type": "code",
   "execution_count": 28,
   "metadata": {
    "collapsed": false
   },
   "outputs": [
    {
     "name": "stdout",
     "output_type": "stream",
     "text": [
      "Starting gradient descent with l2_penalty = 0.0\n",
      "Iteration = 1\n",
      "Cost function =  7433051851026171.0\n",
      "Iteration = 2\n",
      "Cost function =  4056752331500974.0\n",
      "Iteration = 3\n",
      "Cost function =  2529565114333593.0\n",
      "Iteration = 4\n",
      "Cost function =  1838556694275925.8\n",
      "Iteration = 5\n",
      "Cost function =  1525675575208603.2\n",
      "Iteration = 6\n",
      "Cost function =  1383789498674792.5\n",
      "Iteration = 7\n",
      "Cost function =  1319232606276633.5\n",
      "Iteration = 8\n",
      "Cost function =  1289648872028922.0\n",
      "Iteration = 9\n",
      "Cost function =  1275884724079267.0\n",
      "Iteration = 10\n",
      "Cost function =  1269278807577156.5\n",
      "Iteration = 20\n",
      "Cost function =  1257812386316615.0\n",
      "Iteration = 30\n",
      "Cost function =  1251954571266786.8\n",
      "Iteration = 40\n",
      "Cost function =  1246755423155437.5\n",
      "Iteration = 50\n",
      "Cost function =  1242139508748821.5\n",
      "Iteration = 60\n",
      "Cost function =  1238041401137188.2\n",
      "Iteration = 70\n",
      "Cost function =  1234403013463994.5\n",
      "Iteration = 80\n",
      "Cost function =  1231172774976820.2\n",
      "Iteration = 90\n",
      "Cost function =  1228304900059554.0\n",
      "Iteration = 100\n",
      "Cost function =  1225758739263726.5\n",
      "Iteration = 200\n",
      "Cost function =  1211738881421532.5\n",
      "Iteration = 300\n",
      "Cost function =  1207473080962632.0\n",
      "Iteration = 400\n",
      "Cost function =  1206175125770959.5\n",
      "Iteration = 500\n",
      "Cost function =  1205780190233995.0\n",
      "Iteration = 600\n",
      "Cost function =  1205660014471676.5\n",
      "Iteration = 700\n",
      "Cost function =  1205623439252682.5\n",
      "Iteration = 800\n",
      "Cost function =  1205612300984400.5\n",
      "Iteration = 900\n",
      "Cost function =  1205608902360341.5\n",
      "Iteration = 1000\n",
      "Cost function =  1205607858660559.5\n",
      "Done with gradient descent at iteration  1000\n",
      "Learned weights =  [ -0.35743482 243.0541689   22.41481594]\n"
     ]
    }
   ],
   "source": [
    "multiple_weights_0_penalty = ridge_regression_gradient_descent(feature_matrix, output, \n",
    "                                                             initial_weights, step_size, \n",
    "                                                             0.0, max_iterations)"
   ]
  },
  {
   "cell_type": "markdown",
   "metadata": {},
   "source": [
    "Next, let's consider high regularization.  Set the `l2_penalty` to `1e11` and run your ridge regression algorithm to learn the weights of your model.  Call your weights:\n",
    "\n",
    "`multiple_weights_high_penalty`"
   ]
  },
  {
   "cell_type": "code",
   "execution_count": 29,
   "metadata": {
    "collapsed": false
   },
   "outputs": [
    {
     "name": "stdout",
     "output_type": "stream",
     "text": [
      "Starting gradient descent with l2_penalty = 1e+11\n",
      "Iteration = 1\n",
      "Cost function =  7433051851026171.0\n",
      "Iteration = 2\n",
      "Cost function =  4460489790285893.0\n",
      "Iteration = 3\n",
      "Cost function =  3796674504110798.0\n",
      "Iteration = 4\n",
      "Cost function =  3648319601652133.0\n",
      "Iteration = 5\n",
      "Cost function =  3615091213133228.0\n",
      "Iteration = 6\n",
      "Cost function =  3607602894204765.5\n",
      "Iteration = 7\n",
      "Cost function =  3605886517662998.0\n",
      "Iteration = 8\n",
      "Cost function =  3605475114921560.5\n",
      "Iteration = 9\n",
      "Cost function =  3605365453521860.0\n",
      "Iteration = 10\n",
      "Cost function =  3605329733480621.0\n",
      "Iteration = 20\n",
      "Cost function =  3605295066120845.0\n",
      "Iteration = 30\n",
      "Cost function =  3605294774239093.5\n",
      "Iteration = 40\n",
      "Cost function =  3605294771363813.0\n",
      "Iteration = 50\n",
      "Cost function =  3605294771337809.5\n",
      "Iteration = 60\n",
      "Cost function =  3605294771337819.0\n",
      "Iteration = 70\n",
      "Cost function =  3605294771337845.5\n",
      "Iteration = 80\n",
      "Cost function =  3605294771337851.0\n",
      "Iteration = 90\n",
      "Cost function =  3605294771337848.5\n",
      "Iteration = 100\n",
      "Cost function =  3605294771337849.0\n",
      "Iteration = 200\n",
      "Cost function =  3605294771337851.0\n",
      "Iteration = 300\n",
      "Cost function =  3605294771337851.0\n",
      "Iteration = 400\n",
      "Cost function =  3605294771337851.0\n",
      "Iteration = 500\n",
      "Cost function =  3605294771337851.0\n",
      "Iteration = 600\n",
      "Cost function =  3605294771337851.0\n",
      "Iteration = 700\n",
      "Cost function =  3605294771337851.0\n",
      "Iteration = 800\n",
      "Cost function =  3605294771337851.0\n",
      "Iteration = 900\n",
      "Cost function =  3605294771337851.0\n",
      "Iteration = 1000\n",
      "Cost function =  3605294771337851.0\n",
      "Done with gradient descent at iteration  1000\n",
      "Learned weights =  [3.36011656e-02 9.14901675e+01 7.84374904e+01]\n"
     ]
    }
   ],
   "source": [
    "multiple_weights_high_penalty = ridge_regression_gradient_descent(feature_matrix, output, \n",
    "                                                             initial_weights, step_size, \n",
    "                                                             1e11, max_iterations)"
   ]
  },
  {
   "cell_type": "markdown",
   "metadata": {},
   "source": [
    "Compute the RSS on the TEST data for the following three sets of weights:\n",
    "1. The initial weights (all zeros)\n",
    "2. The weights learned with no regularization\n",
    "3. The weights learned with high regularization\n",
    "\n",
    "Which weights perform best?"
   ]
  },
  {
   "cell_type": "markdown",
   "metadata": {},
   "source": [
    "### RSS on the test data - initial weights"
   ]
  },
  {
   "cell_type": "code",
   "execution_count": 61,
   "metadata": {
    "collapsed": false
   },
   "outputs": [
    {
     "name": "stdout",
     "output_type": "stream",
     "text": [
      "RSS: 1784273282524564.0\n",
      "Derivatives: [-4.59315109e+09 -1.14563014e+13 -1.03533693e+13]\n"
     ]
    }
   ],
   "source": [
    "initial_weights = np.array([0.0,0.0,0.0])\n",
    "test_predictions_initial_weights = predict_output(test_feature_matrix, initial_weights) \n",
    "errors = test_predictions_initial_weights - test_output # prediction errors\n",
    "\n",
    "print \"RSS:\", (errors**2).sum()\n",
    "# next two lines should print the same values\n",
    "print \"Derivatives:\", feature_derivative_ridge(errors, test_feature_matrix, initial_weights, 1, False)"
   ]
  },
  {
   "cell_type": "markdown",
   "metadata": {},
   "source": [
    "### Rss on test data - no regularization"
   ]
  },
  {
   "cell_type": "code",
   "execution_count": 62,
   "metadata": {
    "collapsed": false
   },
   "outputs": [
    {
     "name": "stdout",
     "output_type": "stream",
     "text": [
      "RSS: 274067618287245.25\n",
      "Derivative: [ 5.85616625e+07 -1.07445117e+10 -5.49091021e+10]\n"
     ]
    }
   ],
   "source": [
    "test_predictions_0_penalty = predict_output(test_feature_matrix, multiple_weights_0_penalty) \n",
    "errors = test_predictions_0_penalty - test_output # prediction errors\n",
    "\n",
    "print \"RSS:\", (errors**2).sum()\n",
    "print \"Derivative:\", feature_derivative_ridge(errors, test_feature_matrix, multiple_weights_0_penalty, 0.0, False)"
   ]
  },
  {
   "cell_type": "markdown",
   "metadata": {},
   "source": [
    "### Rss on test data - high regularization`"
   ]
  },
  {
   "cell_type": "code",
   "execution_count": 63,
   "metadata": {
    "collapsed": false
   },
   "outputs": [
    {
     "name": "stdout",
     "output_type": "stream",
     "text": [
      "RSS: 500408530315449.9\n",
      "[5.05559304e+09 1.38747621e+13 1.18269435e+13]\n"
     ]
    }
   ],
   "source": [
    "test_predictions_high_penalty = predict_output(test_feature_matrix, multiple_weights_high_penalty) \n",
    "errors = test_predictions_high_penalty - test_output # prediction errors\n",
    "\n",
    "print \"RSS:\", (errors**2).sum()\n",
    "print feature_derivative_ridge(errors, test_feature_matrix, multiple_weights_high_penalty, 1e11, False)"
   ]
  },
  {
   "cell_type": "markdown",
   "metadata": {},
   "source": [
    "Predict the house price for the 1st house in the test set using the no regularization and high regularization models. (Remember that python starts indexing from 0.) How far is the prediction from the actual price?  Which weights perform best for the 1st house?"
   ]
  },
  {
   "cell_type": "code",
   "execution_count": 55,
   "metadata": {
    "collapsed": false
   },
   "outputs": [
    {
     "data": {
      "text/plain": [
       "387465.4764647439"
      ]
     },
     "execution_count": 55,
     "metadata": {},
     "output_type": "execute_result"
    }
   ],
   "source": [
    "test_predictions_0_penalty[0]"
   ]
  },
  {
   "cell_type": "code",
   "execution_count": 56,
   "metadata": {
    "collapsed": false
   },
   "outputs": [
    {
     "data": {
      "text/plain": [
       "270449.70601061446"
      ]
     },
     "execution_count": 56,
     "metadata": {},
     "output_type": "execute_result"
    }
   ],
   "source": [
    "test_predictions_high_penalty[0]"
   ]
  },
  {
   "cell_type": "code",
   "execution_count": 57,
   "metadata": {
    "collapsed": false
   },
   "outputs": [
    {
     "data": {
      "text/plain": [
       "310000.0"
      ]
     },
     "execution_count": 57,
     "metadata": {},
     "output_type": "execute_result"
    }
   ],
   "source": [
    "test_output[0]"
   ]
  },
  {
   "cell_type": "markdown",
   "metadata": {
    "collapsed": true
   },
   "source": [
    "***QUIZ QUESTIONS***\n",
    "1. What is the value of the coefficient for `sqft_living` that you learned with no regularization, rounded to 1 decimal place?  What about the one with high regularization?\n",
    "2. What are the RSS on the test data for each of the set of weights above (initial, no regularization, high regularization)? \n",
    "3. We make prediction for the first house in the test set using two sets of weights (no regularization vs high regularization). Which weights make better prediction <u>for that particular house</u>?"
   ]
  },
  {
   "cell_type": "code",
   "execution_count": null,
   "metadata": {
    "collapsed": true
   },
   "outputs": [],
   "source": []
  }
 ],
 "metadata": {
  "kernelspec": {
   "display_name": "Python 2",
   "language": "python",
   "name": "python2"
  },
  "language_info": {
   "codemirror_mode": {
    "name": "ipython",
    "version": 2
   },
   "file_extension": ".py",
   "mimetype": "text/x-python",
   "name": "python",
   "nbconvert_exporter": "python",
   "pygments_lexer": "ipython2",
   "version": "2.7.13"
  }
 },
 "nbformat": 4,
 "nbformat_minor": 0
}
